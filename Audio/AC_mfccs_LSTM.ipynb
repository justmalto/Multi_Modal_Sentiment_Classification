{
  "nbformat": 4,
  "nbformat_minor": 0,
  "metadata": {
    "colab": {
      "provenance": []
    },
    "kernelspec": {
      "name": "python3",
      "display_name": "Python 3"
    },
    "language_info": {
      "name": "python"
    }
  },
  "cells": [
    {
      "cell_type": "code",
      "execution_count": null,
      "metadata": {
        "id": "qH6lTKIO7qqK"
      },
      "outputs": [],
      "source": []
    },
    {
      "cell_type": "code",
      "execution_count": 1,
      "metadata": {
        "id": "9VL6wRAm1mND"
      },
      "outputs": [],
      "source": [
        "import pandas as pd\n",
        "import numpy as np\n",
        "import librosa\n",
        "import matplotlib.pyplot as plt\n",
        "import os"
      ]
    },
    {
      "cell_type": "code",
      "execution_count": 2,
      "metadata": {
        "id": "YkRsAyNN2VYl"
      },
      "outputs": [],
      "source": [
        "base_dir=\"/content/drive/MyDrive/TESS Toronto emotional speech set data\""
      ]
    },
    {
      "cell_type": "code",
      "execution_count": 3,
      "metadata": {
        "id": "Yp7B-VDq2cZ4"
      },
      "outputs": [],
      "source": [
        "def extract_features(file_path):\n",
        "    # Load audio file\n",
        "    y, sr = librosa.load(file_path)\n",
        "\n",
        "    # Extract features\n",
        "    chroma_stft = librosa.feature.chroma_stft(y=y, sr=sr)\n",
        "    chroma_stft_mean = np.mean(chroma_stft, axis=1)\n",
        "\n",
        "    fft = np.fft.fft(y)\n",
        "    fft_mean = np.mean(np.abs(fft))\n",
        "\n",
        "    mfccs = librosa.feature.mfcc(y=y, sr=sr)\n",
        "    mfccs_mean = np.mean(mfccs, axis=1)\n",
        "\n",
        "    spectrogram = librosa.amplitude_to_db(librosa.stft(y))\n",
        "    spectrogram_mean = np.mean(spectrogram, axis=1)\n",
        "\n",
        "    # Concatenate features\n",
        "    features = np.concatenate((chroma_stft_mean, [fft_mean], mfccs_mean, spectrogram_mean))\n",
        "\n",
        "    return  chroma_stft,fft_mean,mfccs_mean,spectrogram_mean"
      ]
    },
    {
      "cell_type": "code",
      "execution_count": 4,
      "metadata": {
        "id": "zqVeRfqK2m-N"
      },
      "outputs": [],
      "source": [
        "data =[]"
      ]
    },
    {
      "cell_type": "code",
      "execution_count": 5,
      "metadata": {
        "colab": {
          "base_uri": "https://localhost:8080/"
        },
        "id": "5Kij26K72p5D",
        "outputId": "7fadbd06-01c0-4606-ce3f-cf279dc89e3c"
      },
      "outputs": [
        {
          "output_type": "stream",
          "name": "stderr",
          "text": [
            "<ipython-input-3-d9b3f246c7a3>:15: UserWarning: amplitude_to_db was called on complex input so phase information will be discarded. To suppress this warning, call amplitude_to_db(np.abs(S)) instead.\n",
            "  spectrogram = librosa.amplitude_to_db(librosa.stft(y))\n"
          ]
        }
      ],
      "source": [
        "for class_dir in os.listdir(base_dir):\n",
        "    class_path = os.path.join(base_dir, class_dir)\n",
        "    if os.path.isdir(class_path):\n",
        "        # Loop through each audio file in the class directory\n",
        "        for file_name in os.listdir(class_path):\n",
        "            if file_name.endswith('.wav'):\n",
        "                file_path = os.path.join(class_path, file_name)\n",
        "                chroma_stft,fft_mean,mfccs_mean,spectrogram_mean = extract_features(file_path)\n",
        "                # Combine the file name, class, and features into one row\n",
        "                row = [file_name, class_dir, chroma_stft,fft_mean,mfccs_mean,spectrogram_mean]\n",
        "                data.append(row)"
      ]
    },
    {
      "cell_type": "code",
      "execution_count": 6,
      "metadata": {
        "id": "Tm96fD4_2wvk"
      },
      "outputs": [],
      "source": [
        "columns = ['file_name', 'class','chroma_stft_mean', 'fft_mean', 'mfccs_mean', 'spectrogram_mean']\n",
        "df = pd.DataFrame(data, columns=columns)"
      ]
    },
    {
      "cell_type": "code",
      "execution_count": 7,
      "metadata": {
        "id": "-lnenDCn23Tw"
      },
      "outputs": [],
      "source": [
        "for col in ['mfccs_mean', 'chroma_stft_mean', 'spectrogram_mean']:\n",
        "    df[col] = df[col].apply(lambda x: np.array(x).flatten())"
      ]
    },
    {
      "cell_type": "code",
      "execution_count": 8,
      "metadata": {
        "id": "vc-0b4Bp28MY"
      },
      "outputs": [],
      "source": [
        "max_length = max(len(arr) for arr in df['chroma_stft_mean'])"
      ]
    },
    {
      "cell_type": "code",
      "execution_count": 9,
      "metadata": {
        "id": "hq7xJU4s4ARI"
      },
      "outputs": [],
      "source": [
        "df_m= pd.concat([df[\"class\"],   pd.DataFrame(df['mfccs_mean'].tolist(), columns=[f'mfccs_mean_{i}' for i in range(len(df['mfccs_mean'].iloc[0]))])], axis=1)"
      ]
    },
    {
      "cell_type": "code",
      "execution_count": 10,
      "metadata": {
        "id": "m48PNlJU44mM"
      },
      "outputs": [],
      "source": [
        "df_m.fillna(0, inplace=True)"
      ]
    },
    {
      "cell_type": "code",
      "execution_count": 11,
      "metadata": {
        "id": "Oi-rmPD65EVo"
      },
      "outputs": [],
      "source": [
        "df['class'] = df['class'].replace({'neutral':0, 'disgust':1,'Sad':2,'Pleasant_surprise':3, 'angry':4, 'Fear':5,\n",
        "       'happy':6})\n"
      ]
    },
    {
      "cell_type": "code",
      "execution_count": 12,
      "metadata": {
        "id": "DmbsqWEc5KWs"
      },
      "outputs": [],
      "source": [
        "y = df['class'].values"
      ]
    },
    {
      "cell_type": "code",
      "execution_count": 13,
      "metadata": {
        "id": "rx1YZh-g5RW7"
      },
      "outputs": [],
      "source": [
        "X = df_m.drop(columns=['class']).values"
      ]
    },
    {
      "cell_type": "code",
      "source": [
        "from sklearn.preprocessing import LabelEncoder, StandardScaler\n",
        "from sklearn.model_selection import train_test_split\n",
        "from keras.models import Sequential\n",
        "from keras.layers import LSTM, Dense, Dropout\n",
        "\n",
        "label_encoder = LabelEncoder()\n",
        "y = label_encoder.fit_transform(y)"
      ],
      "metadata": {
        "id": "MIrK9nyPqgQH"
      },
      "execution_count": 14,
      "outputs": []
    },
    {
      "cell_type": "code",
      "source": [
        "scaler = StandardScaler()\n",
        "X = scaler.fit_transform(X)"
      ],
      "metadata": {
        "id": "OxFEXur4qzwx"
      },
      "execution_count": 15,
      "outputs": []
    },
    {
      "cell_type": "code",
      "source": [
        "X = X.reshape((X.shape[0], 1, X.shape[1]))"
      ],
      "metadata": {
        "id": "Wd2cLF-Frwwt"
      },
      "execution_count": 16,
      "outputs": []
    },
    {
      "cell_type": "code",
      "source": [
        "X_train, X_test, y_train, y_test = train_test_split(X, y, test_size=0.2, random_state=42)"
      ],
      "metadata": {
        "id": "Q54EksI-r2Sy"
      },
      "execution_count": 17,
      "outputs": []
    },
    {
      "cell_type": "code",
      "source": [
        "model = Sequential()\n",
        "model.add(LSTM(128, input_shape=(X_train.shape[1], X_train.shape[2]), return_sequences=True))\n",
        "model.add(Dropout(0.2))\n",
        "model.add(LSTM(64))\n",
        "model.add(Dropout(0.2))\n",
        "model.add(Dense(32, activation='relu'))\n",
        "model.add(Dense(len(np.unique(y)), activation='softmax'))"
      ],
      "metadata": {
        "id": "pfjdnpinsFLQ",
        "colab": {
          "base_uri": "https://localhost:8080/"
        },
        "outputId": "bd7bcd76-a792-4b43-8a7a-0f60c9593f7f"
      },
      "execution_count": 18,
      "outputs": [
        {
          "output_type": "stream",
          "name": "stderr",
          "text": [
            "/usr/local/lib/python3.10/dist-packages/keras/src/layers/rnn/rnn.py:204: UserWarning: Do not pass an `input_shape`/`input_dim` argument to a layer. When using Sequential models, prefer using an `Input(shape)` object as the first layer in the model instead.\n",
            "  super().__init__(**kwargs)\n"
          ]
        }
      ]
    },
    {
      "cell_type": "code",
      "source": [
        "model.compile(optimizer='adam', loss='sparse_categorical_crossentropy', metrics=['accuracy'])"
      ],
      "metadata": {
        "id": "Dkz022zAsY64"
      },
      "execution_count": 19,
      "outputs": []
    },
    {
      "cell_type": "code",
      "source": [
        "history = model.fit(X_train, y_train, epochs=50, batch_size=32, validation_split=0.2)\n"
      ],
      "metadata": {
        "colab": {
          "base_uri": "https://localhost:8080/"
        },
        "id": "yjs8P-HPsfhe",
        "outputId": "a0176c20-2472-432b-9437-003602e8d41c"
      },
      "execution_count": 20,
      "outputs": [
        {
          "output_type": "stream",
          "name": "stdout",
          "text": [
            "Epoch 1/50\n",
            "\u001b[1m56/56\u001b[0m \u001b[32m━━━━━━━━━━━━━━━━━━━━\u001b[0m\u001b[37m\u001b[0m \u001b[1m4s\u001b[0m 14ms/step - accuracy: 0.4437 - loss: 1.8836 - val_accuracy: 0.6763 - val_loss: 1.4086\n",
            "Epoch 2/50\n",
            "\u001b[1m56/56\u001b[0m \u001b[32m━━━━━━━━━━━━━━━━━━━━\u001b[0m\u001b[37m\u001b[0m \u001b[1m1s\u001b[0m 7ms/step - accuracy: 0.6850 - loss: 1.1183 - val_accuracy: 0.8817 - val_loss: 0.5075\n",
            "Epoch 3/50\n",
            "\u001b[1m56/56\u001b[0m \u001b[32m━━━━━━━━━━━━━━━━━━━━\u001b[0m\u001b[37m\u001b[0m \u001b[1m1s\u001b[0m 7ms/step - accuracy: 0.8753 - loss: 0.4485 - val_accuracy: 0.9598 - val_loss: 0.2294\n",
            "Epoch 4/50\n",
            "\u001b[1m56/56\u001b[0m \u001b[32m━━━━━━━━━━━━━━━━━━━━\u001b[0m\u001b[37m\u001b[0m \u001b[1m1s\u001b[0m 7ms/step - accuracy: 0.9478 - loss: 0.2140 - val_accuracy: 0.9754 - val_loss: 0.1366\n",
            "Epoch 5/50\n",
            "\u001b[1m56/56\u001b[0m \u001b[32m━━━━━━━━━━━━━━━━━━━━\u001b[0m\u001b[37m\u001b[0m \u001b[1m1s\u001b[0m 7ms/step - accuracy: 0.9636 - loss: 0.1371 - val_accuracy: 0.9688 - val_loss: 0.1104\n",
            "Epoch 6/50\n",
            "\u001b[1m56/56\u001b[0m \u001b[32m━━━━━━━━━━━━━━━━━━━━\u001b[0m\u001b[37m\u001b[0m \u001b[1m0s\u001b[0m 7ms/step - accuracy: 0.9765 - loss: 0.0878 - val_accuracy: 0.9777 - val_loss: 0.0940\n",
            "Epoch 7/50\n",
            "\u001b[1m56/56\u001b[0m \u001b[32m━━━━━━━━━━━━━━━━━━━━\u001b[0m\u001b[37m\u001b[0m \u001b[1m1s\u001b[0m 10ms/step - accuracy: 0.9818 - loss: 0.0687 - val_accuracy: 0.9777 - val_loss: 0.0797\n",
            "Epoch 8/50\n",
            "\u001b[1m56/56\u001b[0m \u001b[32m━━━━━━━━━━━━━━━━━━━━\u001b[0m\u001b[37m\u001b[0m \u001b[1m1s\u001b[0m 10ms/step - accuracy: 0.9888 - loss: 0.0583 - val_accuracy: 0.9799 - val_loss: 0.0724\n",
            "Epoch 9/50\n",
            "\u001b[1m56/56\u001b[0m \u001b[32m━━━━━━━━━━━━━━━━━━━━\u001b[0m\u001b[37m\u001b[0m \u001b[1m1s\u001b[0m 11ms/step - accuracy: 0.9856 - loss: 0.0486 - val_accuracy: 0.9777 - val_loss: 0.0772\n",
            "Epoch 10/50\n",
            "\u001b[1m56/56\u001b[0m \u001b[32m━━━━━━━━━━━━━━━━━━━━\u001b[0m\u001b[37m\u001b[0m \u001b[1m1s\u001b[0m 11ms/step - accuracy: 0.9874 - loss: 0.0415 - val_accuracy: 0.9821 - val_loss: 0.0589\n",
            "Epoch 11/50\n",
            "\u001b[1m56/56\u001b[0m \u001b[32m━━━━━━━━━━━━━━━━━━━━\u001b[0m\u001b[37m\u001b[0m \u001b[1m1s\u001b[0m 10ms/step - accuracy: 0.9895 - loss: 0.0311 - val_accuracy: 0.9821 - val_loss: 0.0608\n",
            "Epoch 12/50\n",
            "\u001b[1m56/56\u001b[0m \u001b[32m━━━━━━━━━━━━━━━━━━━━\u001b[0m\u001b[37m\u001b[0m \u001b[1m1s\u001b[0m 12ms/step - accuracy: 0.9896 - loss: 0.0350 - val_accuracy: 0.9821 - val_loss: 0.0554\n",
            "Epoch 13/50\n",
            "\u001b[1m56/56\u001b[0m \u001b[32m━━━━━━━━━━━━━━━━━━━━\u001b[0m\u001b[37m\u001b[0m \u001b[1m1s\u001b[0m 11ms/step - accuracy: 0.9922 - loss: 0.0306 - val_accuracy: 0.9821 - val_loss: 0.0618\n",
            "Epoch 14/50\n",
            "\u001b[1m56/56\u001b[0m \u001b[32m━━━━━━━━━━━━━━━━━━━━\u001b[0m\u001b[37m\u001b[0m \u001b[1m1s\u001b[0m 10ms/step - accuracy: 0.9921 - loss: 0.0274 - val_accuracy: 0.9821 - val_loss: 0.0586\n",
            "Epoch 15/50\n",
            "\u001b[1m56/56\u001b[0m \u001b[32m━━━━━━━━━━━━━━━━━━━━\u001b[0m\u001b[37m\u001b[0m \u001b[1m0s\u001b[0m 7ms/step - accuracy: 0.9904 - loss: 0.0231 - val_accuracy: 0.9844 - val_loss: 0.0606\n",
            "Epoch 16/50\n",
            "\u001b[1m56/56\u001b[0m \u001b[32m━━━━━━━━━━━━━━━━━━━━\u001b[0m\u001b[37m\u001b[0m \u001b[1m1s\u001b[0m 6ms/step - accuracy: 0.9915 - loss: 0.0275 - val_accuracy: 0.9821 - val_loss: 0.0512\n",
            "Epoch 17/50\n",
            "\u001b[1m56/56\u001b[0m \u001b[32m━━━━━━━━━━━━━━━━━━━━\u001b[0m\u001b[37m\u001b[0m \u001b[1m1s\u001b[0m 6ms/step - accuracy: 0.9946 - loss: 0.0192 - val_accuracy: 0.9821 - val_loss: 0.0548\n",
            "Epoch 18/50\n",
            "\u001b[1m56/56\u001b[0m \u001b[32m━━━━━━━━━━━━━━━━━━━━\u001b[0m\u001b[37m\u001b[0m \u001b[1m0s\u001b[0m 7ms/step - accuracy: 0.9938 - loss: 0.0224 - val_accuracy: 0.9821 - val_loss: 0.0516\n",
            "Epoch 19/50\n",
            "\u001b[1m56/56\u001b[0m \u001b[32m━━━━━━━━━━━━━━━━━━━━\u001b[0m\u001b[37m\u001b[0m \u001b[1m0s\u001b[0m 7ms/step - accuracy: 0.9906 - loss: 0.0208 - val_accuracy: 0.9844 - val_loss: 0.0547\n",
            "Epoch 20/50\n",
            "\u001b[1m56/56\u001b[0m \u001b[32m━━━━━━━━━━━━━━━━━━━━\u001b[0m\u001b[37m\u001b[0m \u001b[1m0s\u001b[0m 6ms/step - accuracy: 0.9978 - loss: 0.0146 - val_accuracy: 0.9866 - val_loss: 0.0569\n",
            "Epoch 21/50\n",
            "\u001b[1m56/56\u001b[0m \u001b[32m━━━━━━━━━━━━━━━━━━━━\u001b[0m\u001b[37m\u001b[0m \u001b[1m1s\u001b[0m 7ms/step - accuracy: 0.9953 - loss: 0.0190 - val_accuracy: 0.9844 - val_loss: 0.0467\n",
            "Epoch 22/50\n",
            "\u001b[1m56/56\u001b[0m \u001b[32m━━━━━━━━━━━━━━━━━━━━\u001b[0m\u001b[37m\u001b[0m \u001b[1m1s\u001b[0m 6ms/step - accuracy: 0.9920 - loss: 0.0197 - val_accuracy: 0.9844 - val_loss: 0.0538\n",
            "Epoch 23/50\n",
            "\u001b[1m56/56\u001b[0m \u001b[32m━━━━━━━━━━━━━━━━━━━━\u001b[0m\u001b[37m\u001b[0m \u001b[1m0s\u001b[0m 7ms/step - accuracy: 0.9976 - loss: 0.0138 - val_accuracy: 0.9866 - val_loss: 0.0465\n",
            "Epoch 24/50\n",
            "\u001b[1m56/56\u001b[0m \u001b[32m━━━━━━━━━━━━━━━━━━━━\u001b[0m\u001b[37m\u001b[0m \u001b[1m1s\u001b[0m 6ms/step - accuracy: 0.9948 - loss: 0.0125 - val_accuracy: 0.9866 - val_loss: 0.0427\n",
            "Epoch 25/50\n",
            "\u001b[1m56/56\u001b[0m \u001b[32m━━━━━━━━━━━━━━━━━━━━\u001b[0m\u001b[37m\u001b[0m \u001b[1m0s\u001b[0m 7ms/step - accuracy: 0.9933 - loss: 0.0179 - val_accuracy: 0.9866 - val_loss: 0.0420\n",
            "Epoch 26/50\n",
            "\u001b[1m56/56\u001b[0m \u001b[32m━━━━━━━━━━━━━━━━━━━━\u001b[0m\u001b[37m\u001b[0m \u001b[1m1s\u001b[0m 6ms/step - accuracy: 0.9969 - loss: 0.0124 - val_accuracy: 0.9844 - val_loss: 0.0501\n",
            "Epoch 27/50\n",
            "\u001b[1m56/56\u001b[0m \u001b[32m━━━━━━━━━━━━━━━━━━━━\u001b[0m\u001b[37m\u001b[0m \u001b[1m1s\u001b[0m 7ms/step - accuracy: 0.9985 - loss: 0.0081 - val_accuracy: 0.9844 - val_loss: 0.0458\n",
            "Epoch 28/50\n",
            "\u001b[1m56/56\u001b[0m \u001b[32m━━━━━━━━━━━━━━━━━━━━\u001b[0m\u001b[37m\u001b[0m \u001b[1m1s\u001b[0m 7ms/step - accuracy: 0.9976 - loss: 0.0100 - val_accuracy: 0.9911 - val_loss: 0.0314\n",
            "Epoch 29/50\n",
            "\u001b[1m56/56\u001b[0m \u001b[32m━━━━━━━━━━━━━━━━━━━━\u001b[0m\u001b[37m\u001b[0m \u001b[1m0s\u001b[0m 6ms/step - accuracy: 0.9942 - loss: 0.0269 - val_accuracy: 0.9866 - val_loss: 0.0379\n",
            "Epoch 30/50\n",
            "\u001b[1m56/56\u001b[0m \u001b[32m━━━━━━━━━━━━━━━━━━━━\u001b[0m\u001b[37m\u001b[0m \u001b[1m0s\u001b[0m 6ms/step - accuracy: 0.9970 - loss: 0.0121 - val_accuracy: 0.9888 - val_loss: 0.0414\n",
            "Epoch 31/50\n",
            "\u001b[1m56/56\u001b[0m \u001b[32m━━━━━━━━━━━━━━━━━━━━\u001b[0m\u001b[37m\u001b[0m \u001b[1m1s\u001b[0m 7ms/step - accuracy: 0.9962 - loss: 0.0102 - val_accuracy: 0.9888 - val_loss: 0.0346\n",
            "Epoch 32/50\n",
            "\u001b[1m56/56\u001b[0m \u001b[32m━━━━━━━━━━━━━━━━━━━━\u001b[0m\u001b[37m\u001b[0m \u001b[1m1s\u001b[0m 6ms/step - accuracy: 0.9974 - loss: 0.0095 - val_accuracy: 0.9866 - val_loss: 0.0415\n",
            "Epoch 33/50\n",
            "\u001b[1m56/56\u001b[0m \u001b[32m━━━━━━━━━━━━━━━━━━━━\u001b[0m\u001b[37m\u001b[0m \u001b[1m1s\u001b[0m 6ms/step - accuracy: 0.9956 - loss: 0.0117 - val_accuracy: 0.9866 - val_loss: 0.0371\n",
            "Epoch 34/50\n",
            "\u001b[1m56/56\u001b[0m \u001b[32m━━━━━━━━━━━━━━━━━━━━\u001b[0m\u001b[37m\u001b[0m \u001b[1m1s\u001b[0m 11ms/step - accuracy: 0.9996 - loss: 0.0051 - val_accuracy: 0.9866 - val_loss: 0.0416\n",
            "Epoch 35/50\n",
            "\u001b[1m56/56\u001b[0m \u001b[32m━━━━━━━━━━━━━━━━━━━━\u001b[0m\u001b[37m\u001b[0m \u001b[1m1s\u001b[0m 10ms/step - accuracy: 0.9952 - loss: 0.0111 - val_accuracy: 0.9888 - val_loss: 0.0338\n",
            "Epoch 36/50\n",
            "\u001b[1m56/56\u001b[0m \u001b[32m━━━━━━━━━━━━━━━━━━━━\u001b[0m\u001b[37m\u001b[0m \u001b[1m1s\u001b[0m 10ms/step - accuracy: 0.9941 - loss: 0.0143 - val_accuracy: 0.9866 - val_loss: 0.0441\n",
            "Epoch 37/50\n",
            "\u001b[1m56/56\u001b[0m \u001b[32m━━━━━━━━━━━━━━━━━━━━\u001b[0m\u001b[37m\u001b[0m \u001b[1m1s\u001b[0m 10ms/step - accuracy: 0.9971 - loss: 0.0117 - val_accuracy: 0.9911 - val_loss: 0.0360\n",
            "Epoch 38/50\n",
            "\u001b[1m56/56\u001b[0m \u001b[32m━━━━━━━━━━━━━━━━━━━━\u001b[0m\u001b[37m\u001b[0m \u001b[1m1s\u001b[0m 11ms/step - accuracy: 0.9959 - loss: 0.0093 - val_accuracy: 0.9888 - val_loss: 0.0394\n",
            "Epoch 39/50\n",
            "\u001b[1m56/56\u001b[0m \u001b[32m━━━━━━━━━━━━━━━━━━━━\u001b[0m\u001b[37m\u001b[0m \u001b[1m1s\u001b[0m 11ms/step - accuracy: 0.9995 - loss: 0.0047 - val_accuracy: 0.9888 - val_loss: 0.0360\n",
            "Epoch 40/50\n",
            "\u001b[1m56/56\u001b[0m \u001b[32m━━━━━━━━━━━━━━━━━━━━\u001b[0m\u001b[37m\u001b[0m \u001b[1m1s\u001b[0m 9ms/step - accuracy: 0.9971 - loss: 0.0091 - val_accuracy: 0.9933 - val_loss: 0.0313\n",
            "Epoch 41/50\n",
            "\u001b[1m56/56\u001b[0m \u001b[32m━━━━━━━━━━━━━━━━━━━━\u001b[0m\u001b[37m\u001b[0m \u001b[1m0s\u001b[0m 6ms/step - accuracy: 0.9971 - loss: 0.0087 - val_accuracy: 0.9911 - val_loss: 0.0341\n",
            "Epoch 42/50\n",
            "\u001b[1m56/56\u001b[0m \u001b[32m━━━━━━━━━━━━━━━━━━━━\u001b[0m\u001b[37m\u001b[0m \u001b[1m0s\u001b[0m 6ms/step - accuracy: 0.9964 - loss: 0.0097 - val_accuracy: 0.9866 - val_loss: 0.0537\n",
            "Epoch 43/50\n",
            "\u001b[1m56/56\u001b[0m \u001b[32m━━━━━━━━━━━━━━━━━━━━\u001b[0m\u001b[37m\u001b[0m \u001b[1m1s\u001b[0m 6ms/step - accuracy: 0.9933 - loss: 0.0107 - val_accuracy: 0.9866 - val_loss: 0.0388\n",
            "Epoch 44/50\n",
            "\u001b[1m56/56\u001b[0m \u001b[32m━━━━━━━━━━━━━━━━━━━━\u001b[0m\u001b[37m\u001b[0m \u001b[1m0s\u001b[0m 6ms/step - accuracy: 0.9988 - loss: 0.0039 - val_accuracy: 0.9888 - val_loss: 0.0491\n",
            "Epoch 45/50\n",
            "\u001b[1m56/56\u001b[0m \u001b[32m━━━━━━━━━━━━━━━━━━━━\u001b[0m\u001b[37m\u001b[0m \u001b[1m0s\u001b[0m 6ms/step - accuracy: 0.9967 - loss: 0.0086 - val_accuracy: 0.9866 - val_loss: 0.0457\n",
            "Epoch 46/50\n",
            "\u001b[1m56/56\u001b[0m \u001b[32m━━━━━━━━━━━━━━━━━━━━\u001b[0m\u001b[37m\u001b[0m \u001b[1m1s\u001b[0m 6ms/step - accuracy: 0.9986 - loss: 0.0073 - val_accuracy: 0.9888 - val_loss: 0.0404\n",
            "Epoch 47/50\n",
            "\u001b[1m56/56\u001b[0m \u001b[32m━━━━━━━━━━━━━━━━━━━━\u001b[0m\u001b[37m\u001b[0m \u001b[1m0s\u001b[0m 7ms/step - accuracy: 0.9993 - loss: 0.0043 - val_accuracy: 0.9866 - val_loss: 0.0427\n",
            "Epoch 48/50\n",
            "\u001b[1m56/56\u001b[0m \u001b[32m━━━━━━━━━━━━━━━━━━━━\u001b[0m\u001b[37m\u001b[0m \u001b[1m0s\u001b[0m 7ms/step - accuracy: 0.9986 - loss: 0.0065 - val_accuracy: 0.9866 - val_loss: 0.0473\n",
            "Epoch 49/50\n",
            "\u001b[1m56/56\u001b[0m \u001b[32m━━━━━━━━━━━━━━━━━━━━\u001b[0m\u001b[37m\u001b[0m \u001b[1m0s\u001b[0m 6ms/step - accuracy: 0.9992 - loss: 0.0041 - val_accuracy: 0.9866 - val_loss: 0.0426\n",
            "Epoch 50/50\n",
            "\u001b[1m56/56\u001b[0m \u001b[32m━━━━━━━━━━━━━━━━━━━━\u001b[0m\u001b[37m\u001b[0m \u001b[1m1s\u001b[0m 6ms/step - accuracy: 0.9972 - loss: 0.0079 - val_accuracy: 0.9911 - val_loss: 0.0299\n"
          ]
        }
      ]
    },
    {
      "cell_type": "code",
      "source": [],
      "metadata": {
        "id": "hxgy9iKa6z8j"
      },
      "execution_count": 20,
      "outputs": []
    },
    {
      "cell_type": "code",
      "source": [
        "from sklearn.metrics import classification_report, confusion_matrix\n",
        "import matplotlib.pyplot as plt\n",
        "import seaborn as sns\n",
        "\n",
        "# Predict the labels for the test set\n",
        "y_pred = model.predict(X_test)\n",
        "y_pred_classes = np.argmax(y_pred, axis=1)"
      ],
      "metadata": {
        "colab": {
          "base_uri": "https://localhost:8080/"
        },
        "id": "qDlj9lZuslia",
        "outputId": "079e6567-6369-4e6d-b251-b57c0f550641"
      },
      "execution_count": 21,
      "outputs": [
        {
          "output_type": "stream",
          "name": "stdout",
          "text": [
            "\u001b[1m18/18\u001b[0m \u001b[32m━━━━━━━━━━━━━━━━━━━━\u001b[0m\u001b[37m\u001b[0m \u001b[1m1s\u001b[0m 19ms/step\n"
          ]
        }
      ]
    },
    {
      "cell_type": "code",
      "source": [
        "print(\"Classification Report:\")\n",
        "# Convert label_encoder.classes_ to a list of strings\n",
        "target_names = [str(cls) for cls in label_encoder.classes_]\n",
        "print(classification_report(y_test, y_pred_classes, target_names=target_names))\n",
        "\n",
        "# Confusion matrix\n",
        "conf_matrix = confusion_matrix(y_test, y_pred_classes)\n",
        "\n",
        "# Plot confusion matrix\n",
        "plt.figure(figsize=(10, 8))\n",
        "sns.heatmap(conf_matrix, annot=True, fmt='d', cmap='Blues', xticklabels=target_names, yticklabels=target_names) # Use target_names here as well\n",
        "plt.xlabel('Predicted')\n",
        "plt.ylabel('Actual')\n",
        "plt.title('Confusion Matrix')\n",
        "plt.show()"
      ],
      "metadata": {
        "colab": {
          "base_uri": "https://localhost:8080/",
          "height": 978
        },
        "id": "auHPRorsuupb",
        "outputId": "4153cc5b-edfe-41ef-eefc-256bbc68bd29"
      },
      "execution_count": 22,
      "outputs": [
        {
          "output_type": "stream",
          "name": "stdout",
          "text": [
            "Classification Report:\n",
            "              precision    recall  f1-score   support\n",
            "\n",
            "           0       0.99      1.00      0.99        76\n",
            "           1       1.00      1.00      1.00        89\n",
            "           2       1.00      1.00      1.00        77\n",
            "           3       0.98      0.99      0.98        86\n",
            "           4       1.00      0.99      0.99        76\n",
            "           5       1.00      1.00      1.00        83\n",
            "           6       0.99      0.97      0.98        73\n",
            "\n",
            "    accuracy                           0.99       560\n",
            "   macro avg       0.99      0.99      0.99       560\n",
            "weighted avg       0.99      0.99      0.99       560\n",
            "\n"
          ]
        },
        {
          "output_type": "display_data",
          "data": {
            "text/plain": [
              "<Figure size 1000x800 with 2 Axes>"
            ],
            "image/png": "[encoded data removed]"
          },
          "metadata": {}
        }
      ]
    },
    {
      "cell_type": "code",
      "source": [],
      "metadata": {
        "id": "H328qRHGThGN"
      },
      "execution_count": 22,
      "outputs": []
    }
  ]
}