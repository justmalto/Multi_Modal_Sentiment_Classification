{
  "nbformat": 4,
  "nbformat_minor": 0,
  "metadata": {
    "colab": {
      "provenance": []
    },
    "kernelspec": {
      "name": "python3",
      "display_name": "Python 3"
    },
    "language_info": {
      "name": "python"
    }
  },
  "cells": [
    {
      "cell_type": "code",
      "execution_count": null,
      "metadata": {
        "id": "qH6lTKIO7qqK"
      },
      "outputs": [],
      "source": []
    },
    {
      "cell_type": "code",
      "execution_count": 1,
      "metadata": {
        "id": "9VL6wRAm1mND"
      },
      "outputs": [],
      "source": [
        "import pandas as pd\n",
        "import numpy as np\n",
        "import librosa\n",
        "import matplotlib.pyplot as plt\n",
        "import os"
      ]
    },
    {
      "cell_type": "code",
      "execution_count": 2,
      "metadata": {
        "id": "YkRsAyNN2VYl"
      },
      "outputs": [],
      "source": [
        "base_dir=\"/content/drive/MyDrive/TESS Toronto emotional speech set data\""
      ]
    },
    {
      "cell_type": "code",
      "execution_count": 3,
      "metadata": {
        "id": "Yp7B-VDq2cZ4"
      },
      "outputs": [],
      "source": [
        "def extract_features(file_path):\n",
        "    # Load audio file\n",
        "    y, sr = librosa.load(file_path)\n",
        "\n",
        "    # Extract features\n",
        "    chroma_stft = librosa.feature.chroma_stft(y=y, sr=sr)\n",
        "    chroma_stft_mean = np.mean(chroma_stft, axis=1)\n",
        "\n",
        "    fft = np.fft.fft(y)\n",
        "    fft_mean = np.mean(np.abs(fft))\n",
        "\n",
        "    mfccs = librosa.feature.mfcc(y=y, sr=sr)\n",
        "    mfccs_mean = np.mean(mfccs, axis=1)\n",
        "\n",
        "    spectrogram = librosa.amplitude_to_db(librosa.stft(y))\n",
        "    spectrogram_mean = np.mean(spectrogram, axis=1)\n",
        "\n",
        "    # Concatenate features\n",
        "    features = np.concatenate((chroma_stft_mean, [fft_mean], mfccs_mean, spectrogram_mean))\n",
        "\n",
        "    return  chroma_stft,fft_mean,mfccs_mean,spectrogram_mean"
      ]
    },
    {
      "cell_type": "code",
      "execution_count": 4,
      "metadata": {
        "id": "zqVeRfqK2m-N"
      },
      "outputs": [],
      "source": [
        "data =[]"
      ]
    },
    {
      "cell_type": "code",
      "execution_count": 6,
      "metadata": {
        "colab": {
          "base_uri": "https://localhost:8080/"
        },
        "id": "5Kij26K72p5D",
        "outputId": "38b7157f-ec8a-402c-9728-3ca3702e5908"
      },
      "outputs": [
        {
          "output_type": "stream",
          "name": "stderr",
          "text": [
            "<ipython-input-3-d9b3f246c7a3>:15: UserWarning: amplitude_to_db was called on complex input so phase information will be discarded. To suppress this warning, call amplitude_to_db(np.abs(S)) instead.\n",
            "  spectrogram = librosa.amplitude_to_db(librosa.stft(y))\n"
          ]
        }
      ],
      "source": [
        "for class_dir in os.listdir(base_dir):\n",
        "    class_path = os.path.join(base_dir, class_dir)\n",
        "    if os.path.isdir(class_path):\n",
        "        # Loop through each audio file in the class directory\n",
        "        for file_name in os.listdir(class_path):\n",
        "            if file_name.endswith('.wav'):\n",
        "                file_path = os.path.join(class_path, file_name)\n",
        "                chroma_stft,fft_mean,mfccs_mean,spectrogram_mean = extract_features(file_path)\n",
        "                # Combine the file name, class, and features into one row\n",
        "                row = [file_name, class_dir, chroma_stft,fft_mean,mfccs_mean,spectrogram_mean]\n",
        "                data.append(row)"
      ]
    },
    {
      "cell_type": "code",
      "execution_count": 7,
      "metadata": {
        "id": "Tm96fD4_2wvk"
      },
      "outputs": [],
      "source": [
        "columns = ['file_name', 'class','chroma_stft_mean', 'fft_mean', 'mfccs_mean', 'spectrogram_mean']\n",
        "df = pd.DataFrame(data, columns=columns)"
      ]
    },
    {
      "cell_type": "code",
      "execution_count": 8,
      "metadata": {
        "id": "-lnenDCn23Tw"
      },
      "outputs": [],
      "source": [
        "for col in ['mfccs_mean', 'chroma_stft_mean', 'spectrogram_mean']:\n",
        "    df[col] = df[col].apply(lambda x: np.array(x).flatten())"
      ]
    },
    {
      "cell_type": "code",
      "execution_count": 9,
      "metadata": {
        "id": "vc-0b4Bp28MY"
      },
      "outputs": [],
      "source": [
        "max_length = max(len(arr) for arr in df['chroma_stft_mean'])"
      ]
    },
    {
      "cell_type": "code",
      "execution_count": 10,
      "metadata": {
        "id": "hq7xJU4s4ARI"
      },
      "outputs": [],
      "source": [
        "df_spect= pd.concat([df[\"class\"],   pd.DataFrame(df['spectrogram_mean'].tolist(), columns=[f'spectrogram_mean_{i}' for i in range(len(df['spectrogram_mean'].iloc[0]))])], axis=1)"
      ]
    },
    {
      "cell_type": "code",
      "execution_count": 11,
      "metadata": {
        "id": "m48PNlJU44mM"
      },
      "outputs": [],
      "source": [
        "df_spect.fillna(0, inplace=True)"
      ]
    },
    {
      "cell_type": "code",
      "execution_count": 12,
      "metadata": {
        "id": "Oi-rmPD65EVo"
      },
      "outputs": [],
      "source": [
        "df['class'] = df['class'].replace({'neutral':0, 'disgust':1,'Sad':2,'Pleasant_surprise':3, 'angry':4, 'Fear':5,\n",
        "       'happy':6})\n"
      ]
    },
    {
      "cell_type": "code",
      "execution_count": 13,
      "metadata": {
        "id": "DmbsqWEc5KWs"
      },
      "outputs": [],
      "source": [
        "y = df['class'].values"
      ]
    },
    {
      "cell_type": "code",
      "execution_count": 14,
      "metadata": {
        "id": "rx1YZh-g5RW7"
      },
      "outputs": [],
      "source": [
        "X = df_spect.drop(columns=['class']).values"
      ]
    },
    {
      "cell_type": "code",
      "source": [
        "from sklearn.preprocessing import LabelEncoder, StandardScaler\n",
        "from sklearn.model_selection import train_test_split\n",
        "from keras.models import Sequential\n",
        "from keras.layers import LSTM, Dense, Dropout\n",
        "\n",
        "label_encoder = LabelEncoder()\n",
        "y = label_encoder.fit_transform(y)"
      ],
      "metadata": {
        "id": "MIrK9nyPqgQH"
      },
      "execution_count": 16,
      "outputs": []
    },
    {
      "cell_type": "code",
      "source": [
        "scaler = StandardScaler()\n",
        "X = scaler.fit_transform(X)"
      ],
      "metadata": {
        "id": "OxFEXur4qzwx"
      },
      "execution_count": 17,
      "outputs": []
    },
    {
      "cell_type": "code",
      "source": [
        "X = X.reshape((X.shape[0], 1, X.shape[1]))"
      ],
      "metadata": {
        "id": "Wd2cLF-Frwwt"
      },
      "execution_count": 18,
      "outputs": []
    },
    {
      "cell_type": "code",
      "source": [
        "X_train, X_test, y_train, y_test = train_test_split(X, y, test_size=0.2, random_state=42)"
      ],
      "metadata": {
        "id": "Q54EksI-r2Sy"
      },
      "execution_count": 19,
      "outputs": []
    },
    {
      "cell_type": "code",
      "source": [
        "model = Sequential()\n",
        "model.add(LSTM(128, input_shape=(X_train.shape[1], X_train.shape[2]), return_sequences=True))\n",
        "model.add(Dropout(0.2))\n",
        "model.add(LSTM(64))\n",
        "model.add(Dropout(0.2))\n",
        "model.add(Dense(32, activation='relu'))\n",
        "model.add(Dense(len(np.unique(y)), activation='softmax'))"
      ],
      "metadata": {
        "id": "pfjdnpinsFLQ",
        "colab": {
          "base_uri": "https://localhost:8080/"
        },
        "outputId": "7d063f51-190b-4db9-a8d2-03708dc9b646"
      },
      "execution_count": 20,
      "outputs": [
        {
          "output_type": "stream",
          "name": "stderr",
          "text": [
            "/usr/local/lib/python3.10/dist-packages/keras/src/layers/rnn/rnn.py:204: UserWarning: Do not pass an `input_shape`/`input_dim` argument to a layer. When using Sequential models, prefer using an `Input(shape)` object as the first layer in the model instead.\n",
            "  super().__init__(**kwargs)\n"
          ]
        }
      ]
    },
    {
      "cell_type": "code",
      "source": [
        "model.compile(optimizer='adam', loss='sparse_categorical_crossentropy', metrics=['accuracy'])"
      ],
      "metadata": {
        "id": "Dkz022zAsY64"
      },
      "execution_count": 21,
      "outputs": []
    },
    {
      "cell_type": "code",
      "source": [
        "history = model.fit(X_train, y_train, epochs=50, batch_size=32, validation_split=0.2)\n"
      ],
      "metadata": {
        "colab": {
          "base_uri": "https://localhost:8080/"
        },
        "id": "yjs8P-HPsfhe",
        "outputId": "4d16c043-1a06-4aa6-a28e-20a501e83d8b"
      },
      "execution_count": 22,
      "outputs": [
        {
          "output_type": "stream",
          "name": "stdout",
          "text": [
            "Epoch 1/50\n",
            "\u001b[1m56/56\u001b[0m \u001b[32m━━━━━━━━━━━━━━━━━━━━\u001b[0m\u001b[37m\u001b[0m \u001b[1m5s\u001b[0m 21ms/step - accuracy: 0.4003 - loss: 1.6377 - val_accuracy: 0.8304 - val_loss: 0.8343\n",
            "Epoch 2/50\n",
            "\u001b[1m56/56\u001b[0m \u001b[32m━━━━━━━━━━━━━━━━━━━━\u001b[0m\u001b[37m\u001b[0m \u001b[1m1s\u001b[0m 16ms/step - accuracy: 0.8761 - loss: 0.6640 - val_accuracy: 0.9598 - val_loss: 0.2006\n",
            "Epoch 3/50\n",
            "\u001b[1m56/56\u001b[0m \u001b[32m━━━━━━━━━━━━━━━━━━━━\u001b[0m\u001b[37m\u001b[0m \u001b[1m1s\u001b[0m 16ms/step - accuracy: 0.9810 - loss: 0.1499 - val_accuracy: 0.9643 - val_loss: 0.1204\n",
            "Epoch 4/50\n",
            "\u001b[1m56/56\u001b[0m \u001b[32m━━━━━━━━━━━━━━━━━━━━\u001b[0m\u001b[37m\u001b[0m \u001b[1m1s\u001b[0m 13ms/step - accuracy: 0.9768 - loss: 0.1090 - val_accuracy: 0.9732 - val_loss: 0.1099\n",
            "Epoch 5/50\n",
            "\u001b[1m56/56\u001b[0m \u001b[32m━━━━━━━━━━━━━━━━━━━━\u001b[0m\u001b[37m\u001b[0m \u001b[1m1s\u001b[0m 12ms/step - accuracy: 0.9760 - loss: 0.0983 - val_accuracy: 0.9866 - val_loss: 0.0596\n",
            "Epoch 6/50\n",
            "\u001b[1m56/56\u001b[0m \u001b[32m━━━━━━━━━━━━━━━━━━━━\u001b[0m\u001b[37m\u001b[0m \u001b[1m1s\u001b[0m 13ms/step - accuracy: 0.9957 - loss: 0.0471 - val_accuracy: 0.9688 - val_loss: 0.0897\n",
            "Epoch 7/50\n",
            "\u001b[1m56/56\u001b[0m \u001b[32m━━━━━━━━━━━━━━━━━━━━\u001b[0m\u001b[37m\u001b[0m \u001b[1m1s\u001b[0m 13ms/step - accuracy: 0.9945 - loss: 0.0325 - val_accuracy: 0.9777 - val_loss: 0.0601\n",
            "Epoch 8/50\n",
            "\u001b[1m56/56\u001b[0m \u001b[32m━━━━━━━━━━━━━━━━━━━━\u001b[0m\u001b[37m\u001b[0m \u001b[1m1s\u001b[0m 14ms/step - accuracy: 0.9787 - loss: 0.0776 - val_accuracy: 0.9888 - val_loss: 0.0390\n",
            "Epoch 9/50\n",
            "\u001b[1m56/56\u001b[0m \u001b[32m━━━━━━━━━━━━━━━━━━━━\u001b[0m\u001b[37m\u001b[0m \u001b[1m2s\u001b[0m 24ms/step - accuracy: 0.9773 - loss: 0.0828 - val_accuracy: 0.9821 - val_loss: 0.0441\n",
            "Epoch 10/50\n",
            "\u001b[1m56/56\u001b[0m \u001b[32m━━━━━━━━━━━━━━━━━━━━\u001b[0m\u001b[37m\u001b[0m \u001b[1m2s\u001b[0m 23ms/step - accuracy: 0.9819 - loss: 0.0595 - val_accuracy: 0.9911 - val_loss: 0.0403\n",
            "Epoch 11/50\n",
            "\u001b[1m56/56\u001b[0m \u001b[32m━━━━━━━━━━━━━━━━━━━━\u001b[0m\u001b[37m\u001b[0m \u001b[1m2s\u001b[0m 20ms/step - accuracy: 0.9672 - loss: 0.1015 - val_accuracy: 0.9888 - val_loss: 0.0384\n",
            "Epoch 12/50\n",
            "\u001b[1m56/56\u001b[0m \u001b[32m━━━━━━━━━━━━━━━━━━━━\u001b[0m\u001b[37m\u001b[0m \u001b[1m1s\u001b[0m 19ms/step - accuracy: 0.9716 - loss: 0.0895 - val_accuracy: 0.9821 - val_loss: 0.0576\n",
            "Epoch 13/50\n",
            "\u001b[1m56/56\u001b[0m \u001b[32m━━━━━━━━━━━━━━━━━━━━\u001b[0m\u001b[37m\u001b[0m \u001b[1m1s\u001b[0m 12ms/step - accuracy: 0.9857 - loss: 0.0432 - val_accuracy: 0.9911 - val_loss: 0.0172\n",
            "Epoch 14/50\n",
            "\u001b[1m56/56\u001b[0m \u001b[32m━━━━━━━━━━━━━━━━━━━━\u001b[0m\u001b[37m\u001b[0m \u001b[1m1s\u001b[0m 13ms/step - accuracy: 0.9915 - loss: 0.0368 - val_accuracy: 0.9799 - val_loss: 0.0655\n",
            "Epoch 15/50\n",
            "\u001b[1m56/56\u001b[0m \u001b[32m━━━━━━━━━━━━━━━━━━━━\u001b[0m\u001b[37m\u001b[0m \u001b[1m1s\u001b[0m 12ms/step - accuracy: 0.9815 - loss: 0.0690 - val_accuracy: 0.9911 - val_loss: 0.0341\n",
            "Epoch 16/50\n",
            "\u001b[1m56/56\u001b[0m \u001b[32m━━━━━━━━━━━━━━━━━━━━\u001b[0m\u001b[37m\u001b[0m \u001b[1m1s\u001b[0m 13ms/step - accuracy: 0.9779 - loss: 0.0612 - val_accuracy: 0.9911 - val_loss: 0.0272\n",
            "Epoch 17/50\n",
            "\u001b[1m56/56\u001b[0m \u001b[32m━━━━━━━━━━━━━━━━━━━━\u001b[0m\u001b[37m\u001b[0m \u001b[1m1s\u001b[0m 13ms/step - accuracy: 0.9781 - loss: 0.0600 - val_accuracy: 0.9844 - val_loss: 0.0497\n",
            "Epoch 18/50\n",
            "\u001b[1m56/56\u001b[0m \u001b[32m━━━━━━━━━━━━━━━━━━━━\u001b[0m\u001b[37m\u001b[0m \u001b[1m1s\u001b[0m 13ms/step - accuracy: 0.9821 - loss: 0.0567 - val_accuracy: 0.9844 - val_loss: 0.0601\n",
            "Epoch 19/50\n",
            "\u001b[1m56/56\u001b[0m \u001b[32m━━━━━━━━━━━━━━━━━━━━\u001b[0m\u001b[37m\u001b[0m \u001b[1m1s\u001b[0m 13ms/step - accuracy: 0.9860 - loss: 0.0371 - val_accuracy: 0.9844 - val_loss: 0.0537\n",
            "Epoch 20/50\n",
            "\u001b[1m56/56\u001b[0m \u001b[32m━━━━━━━━━━━━━━━━━━━━\u001b[0m\u001b[37m\u001b[0m \u001b[1m2s\u001b[0m 20ms/step - accuracy: 0.9812 - loss: 0.0581 - val_accuracy: 0.9911 - val_loss: 0.0267\n",
            "Epoch 21/50\n",
            "\u001b[1m56/56\u001b[0m \u001b[32m━━━━━━━━━━━━━━━━━━━━\u001b[0m\u001b[37m\u001b[0m \u001b[1m1s\u001b[0m 18ms/step - accuracy: 0.9823 - loss: 0.0521 - val_accuracy: 0.9844 - val_loss: 0.0507\n",
            "Epoch 22/50\n",
            "\u001b[1m56/56\u001b[0m \u001b[32m━━━━━━━━━━━━━━━━━━━━\u001b[0m\u001b[37m\u001b[0m \u001b[1m1s\u001b[0m 19ms/step - accuracy: 0.9887 - loss: 0.0417 - val_accuracy: 0.9844 - val_loss: 0.0604\n",
            "Epoch 23/50\n",
            "\u001b[1m56/56\u001b[0m \u001b[32m━━━━━━━━━━━━━━━━━━━━\u001b[0m\u001b[37m\u001b[0m \u001b[1m1s\u001b[0m 22ms/step - accuracy: 0.9829 - loss: 0.0498 - val_accuracy: 0.9844 - val_loss: 0.0414\n",
            "Epoch 24/50\n",
            "\u001b[1m56/56\u001b[0m \u001b[32m━━━━━━━━━━━━━━━━━━━━\u001b[0m\u001b[37m\u001b[0m \u001b[1m1s\u001b[0m 14ms/step - accuracy: 0.9683 - loss: 0.0851 - val_accuracy: 0.9799 - val_loss: 0.0520\n",
            "Epoch 25/50\n",
            "\u001b[1m56/56\u001b[0m \u001b[32m━━━━━━━━━━━━━━━━━━━━\u001b[0m\u001b[37m\u001b[0m \u001b[1m1s\u001b[0m 13ms/step - accuracy: 0.9514 - loss: 0.1253 - val_accuracy: 0.9911 - val_loss: 0.0369\n",
            "Epoch 26/50\n",
            "\u001b[1m56/56\u001b[0m \u001b[32m━━━━━━━━━━━━━━━━━━━━\u001b[0m\u001b[37m\u001b[0m \u001b[1m1s\u001b[0m 12ms/step - accuracy: 0.9707 - loss: 0.0817 - val_accuracy: 0.9888 - val_loss: 0.0332\n",
            "Epoch 27/50\n",
            "\u001b[1m56/56\u001b[0m \u001b[32m━━━━━━━━━━━━━━━━━━━━\u001b[0m\u001b[37m\u001b[0m \u001b[1m1s\u001b[0m 12ms/step - accuracy: 0.9704 - loss: 0.0833 - val_accuracy: 0.9888 - val_loss: 0.0270\n",
            "Epoch 28/50\n",
            "\u001b[1m56/56\u001b[0m \u001b[32m━━━━━━━━━━━━━━━━━━━━\u001b[0m\u001b[37m\u001b[0m \u001b[1m1s\u001b[0m 13ms/step - accuracy: 0.9829 - loss: 0.0541 - val_accuracy: 0.9799 - val_loss: 0.0805\n",
            "Epoch 29/50\n",
            "\u001b[1m56/56\u001b[0m \u001b[32m━━━━━━━━━━━━━━━━━━━━\u001b[0m\u001b[37m\u001b[0m \u001b[1m1s\u001b[0m 13ms/step - accuracy: 0.9679 - loss: 0.0923 - val_accuracy: 0.9933 - val_loss: 0.0282\n",
            "Epoch 30/50\n",
            "\u001b[1m56/56\u001b[0m \u001b[32m━━━━━━━━━━━━━━━━━━━━\u001b[0m\u001b[37m\u001b[0m \u001b[1m1s\u001b[0m 13ms/step - accuracy: 0.9760 - loss: 0.0553 - val_accuracy: 0.9955 - val_loss: 0.0306\n",
            "Epoch 31/50\n",
            "\u001b[1m56/56\u001b[0m \u001b[32m━━━━━━━━━━━━━━━━━━━━\u001b[0m\u001b[37m\u001b[0m \u001b[1m1s\u001b[0m 13ms/step - accuracy: 0.9835 - loss: 0.0622 - val_accuracy: 0.9866 - val_loss: 0.0435\n",
            "Epoch 32/50\n",
            "\u001b[1m56/56\u001b[0m \u001b[32m━━━━━━━━━━━━━━━━━━━━\u001b[0m\u001b[37m\u001b[0m \u001b[1m1s\u001b[0m 13ms/step - accuracy: 0.9743 - loss: 0.0727 - val_accuracy: 0.9821 - val_loss: 0.0411\n",
            "Epoch 33/50\n",
            "\u001b[1m56/56\u001b[0m \u001b[32m━━━━━━━━━━━━━━━━━━━━\u001b[0m\u001b[37m\u001b[0m \u001b[1m1s\u001b[0m 12ms/step - accuracy: 0.9829 - loss: 0.0497 - val_accuracy: 0.9799 - val_loss: 0.0670\n",
            "Epoch 34/50\n",
            "\u001b[1m56/56\u001b[0m \u001b[32m━━━━━━━━━━━━━━━━━━━━\u001b[0m\u001b[37m\u001b[0m \u001b[1m1s\u001b[0m 16ms/step - accuracy: 0.9911 - loss: 0.0255 - val_accuracy: 0.9911 - val_loss: 0.0396\n",
            "Epoch 35/50\n",
            "\u001b[1m56/56\u001b[0m \u001b[32m━━━━━━━━━━━━━━━━━━━━\u001b[0m\u001b[37m\u001b[0m \u001b[1m1s\u001b[0m 20ms/step - accuracy: 0.9921 - loss: 0.0220 - val_accuracy: 0.9888 - val_loss: 0.0319\n",
            "Epoch 36/50\n",
            "\u001b[1m56/56\u001b[0m \u001b[32m━━━━━━━━━━━━━━━━━━━━\u001b[0m\u001b[37m\u001b[0m \u001b[1m1s\u001b[0m 20ms/step - accuracy: 0.9852 - loss: 0.0341 - val_accuracy: 0.9866 - val_loss: 0.0416\n",
            "Epoch 37/50\n",
            "\u001b[1m56/56\u001b[0m \u001b[32m━━━━━━━━━━━━━━━━━━━━\u001b[0m\u001b[37m\u001b[0m \u001b[1m1s\u001b[0m 19ms/step - accuracy: 0.9864 - loss: 0.0348 - val_accuracy: 0.9911 - val_loss: 0.0434\n",
            "Epoch 38/50\n",
            "\u001b[1m56/56\u001b[0m \u001b[32m━━━━━━━━━━━━━━━━━━━━\u001b[0m\u001b[37m\u001b[0m \u001b[1m1s\u001b[0m 21ms/step - accuracy: 0.9832 - loss: 0.0568 - val_accuracy: 0.9866 - val_loss: 0.0764\n",
            "Epoch 39/50\n",
            "\u001b[1m56/56\u001b[0m \u001b[32m━━━━━━━━━━━━━━━━━━━━\u001b[0m\u001b[37m\u001b[0m \u001b[1m1s\u001b[0m 16ms/step - accuracy: 0.9845 - loss: 0.0505 - val_accuracy: 0.9911 - val_loss: 0.0286\n",
            "Epoch 40/50\n",
            "\u001b[1m56/56\u001b[0m \u001b[32m━━━━━━━━━━━━━━━━━━━━\u001b[0m\u001b[37m\u001b[0m \u001b[1m1s\u001b[0m 13ms/step - accuracy: 0.9848 - loss: 0.0404 - val_accuracy: 0.9844 - val_loss: 0.0479\n",
            "Epoch 41/50\n",
            "\u001b[1m56/56\u001b[0m \u001b[32m━━━━━━━━━━━━━━━━━━━━\u001b[0m\u001b[37m\u001b[0m \u001b[1m1s\u001b[0m 12ms/step - accuracy: 0.9781 - loss: 0.0670 - val_accuracy: 0.9531 - val_loss: 0.1462\n",
            "Epoch 42/50\n",
            "\u001b[1m56/56\u001b[0m \u001b[32m━━━━━━━━━━━━━━━━━━━━\u001b[0m\u001b[37m\u001b[0m \u001b[1m1s\u001b[0m 12ms/step - accuracy: 0.9683 - loss: 0.1006 - val_accuracy: 0.9888 - val_loss: 0.0348\n",
            "Epoch 43/50\n",
            "\u001b[1m56/56\u001b[0m \u001b[32m━━━━━━━━━━━━━━━━━━━━\u001b[0m\u001b[37m\u001b[0m \u001b[1m1s\u001b[0m 13ms/step - accuracy: 0.9913 - loss: 0.0291 - val_accuracy: 0.9844 - val_loss: 0.0371\n",
            "Epoch 44/50\n",
            "\u001b[1m56/56\u001b[0m \u001b[32m━━━━━━━━━━━━━━━━━━━━\u001b[0m\u001b[37m\u001b[0m \u001b[1m1s\u001b[0m 12ms/step - accuracy: 0.9936 - loss: 0.0210 - val_accuracy: 0.9643 - val_loss: 0.1211\n",
            "Epoch 45/50\n",
            "\u001b[1m56/56\u001b[0m \u001b[32m━━━━━━━━━━━━━━━━━━━━\u001b[0m\u001b[37m\u001b[0m \u001b[1m1s\u001b[0m 13ms/step - accuracy: 0.9892 - loss: 0.0349 - val_accuracy: 0.9799 - val_loss: 0.0657\n",
            "Epoch 46/50\n",
            "\u001b[1m56/56\u001b[0m \u001b[32m━━━━━━━━━━━━━━━━━━━━\u001b[0m\u001b[37m\u001b[0m \u001b[1m1s\u001b[0m 13ms/step - accuracy: 0.9787 - loss: 0.0530 - val_accuracy: 0.9799 - val_loss: 0.0568\n",
            "Epoch 47/50\n",
            "\u001b[1m56/56\u001b[0m \u001b[32m━━━━━━━━━━━━━━━━━━━━\u001b[0m\u001b[37m\u001b[0m \u001b[1m1s\u001b[0m 12ms/step - accuracy: 0.9808 - loss: 0.0574 - val_accuracy: 0.9777 - val_loss: 0.0713\n",
            "Epoch 48/50\n",
            "\u001b[1m56/56\u001b[0m \u001b[32m━━━━━━━━━━━━━━━━━━━━\u001b[0m\u001b[37m\u001b[0m \u001b[1m1s\u001b[0m 12ms/step - accuracy: 0.9767 - loss: 0.0626 - val_accuracy: 0.9933 - val_loss: 0.0431\n",
            "Epoch 49/50\n",
            "\u001b[1m56/56\u001b[0m \u001b[32m━━━━━━━━━━━━━━━━━━━━\u001b[0m\u001b[37m\u001b[0m \u001b[1m2s\u001b[0m 20ms/step - accuracy: 0.9865 - loss: 0.0316 - val_accuracy: 0.9911 - val_loss: 0.0397\n",
            "Epoch 50/50\n",
            "\u001b[1m56/56\u001b[0m \u001b[32m━━━━━━━━━━━━━━━━━━━━\u001b[0m\u001b[37m\u001b[0m \u001b[1m1s\u001b[0m 18ms/step - accuracy: 0.9856 - loss: 0.0437 - val_accuracy: 0.9844 - val_loss: 0.0925\n"
          ]
        }
      ]
    },
    {
      "cell_type": "code",
      "source": [],
      "metadata": {
        "id": "hxgy9iKa6z8j"
      },
      "execution_count": 22,
      "outputs": []
    },
    {
      "cell_type": "code",
      "source": [
        "from sklearn.metrics import classification_report, confusion_matrix\n",
        "import matplotlib.pyplot as plt\n",
        "import seaborn as sns\n",
        "\n",
        "# Predict the labels for the test set\n",
        "y_pred = model.predict(X_test)\n",
        "y_pred_classes = np.argmax(y_pred, axis=1)"
      ],
      "metadata": {
        "colab": {
          "base_uri": "https://localhost:8080/"
        },
        "id": "qDlj9lZuslia",
        "outputId": "9fd91304-5e9a-4144-c156-3909d44e9083"
      },
      "execution_count": 23,
      "outputs": [
        {
          "output_type": "stream",
          "name": "stdout",
          "text": [
            "\u001b[1m18/18\u001b[0m \u001b[32m━━━━━━━━━━━━━━━━━━━━\u001b[0m\u001b[37m\u001b[0m \u001b[1m1s\u001b[0m 33ms/step\n"
          ]
        }
      ]
    },
    {
      "cell_type": "code",
      "source": [
        "print(\"Classification Report:\")\n",
        "# Convert label_encoder.classes_ to a list of strings\n",
        "target_names = [str(cls) for cls in label_encoder.classes_]\n",
        "print(classification_report(y_test, y_pred_classes, target_names=target_names))\n",
        "\n",
        "# Confusion matrix\n",
        "conf_matrix = confusion_matrix(y_test, y_pred_classes)\n",
        "\n",
        "# Plot confusion matrix\n",
        "plt.figure(figsize=(10, 8))\n",
        "sns.heatmap(conf_matrix, annot=True, fmt='d', cmap='Blues', xticklabels=target_names, yticklabels=target_names) # Use target_names here as well\n",
        "plt.xlabel('Predicted')\n",
        "plt.ylabel('Actual')\n",
        "plt.title('Confusion Matrix')\n",
        "plt.show()"
      ],
      "metadata": {
        "colab": {
          "base_uri": "https://localhost:8080/",
          "height": 978
        },
        "id": "auHPRorsuupb",
        "outputId": "1243567a-7a67-441f-bbe4-a9042eedd7a6"
      },
      "execution_count": 25,
      "outputs": [
        {
          "output_type": "stream",
          "name": "stdout",
          "text": [
            "Classification Report:\n",
            "              precision    recall  f1-score   support\n",
            "\n",
            "           0       0.99      1.00      0.99        76\n",
            "           1       1.00      0.97      0.98        89\n",
            "           2       0.99      1.00      0.99        77\n",
            "           3       0.99      0.99      0.99        86\n",
            "           4       0.99      1.00      0.99        76\n",
            "           5       1.00      1.00      1.00        83\n",
            "           6       1.00      1.00      1.00        73\n",
            "\n",
            "    accuracy                           0.99       560\n",
            "   macro avg       0.99      0.99      0.99       560\n",
            "weighted avg       0.99      0.99      0.99       560\n",
            "\n"
          ]
        },
        {
          "output_type": "display_data",
          "data": {
            "text/plain": [
              "<Figure size 1000x800 with 2 Axes>"
            ],
            "image/png": "[encoded data removed]"
          },
          "metadata": {}
        }
      ]
    },
    {
      "cell_type": "code",
      "source": [],
      "metadata": {
        "id": "H328qRHGThGN"
      },
      "execution_count": null,
      "outputs": []
    }
  ]
}